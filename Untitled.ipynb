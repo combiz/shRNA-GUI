{
 "cells": [
  {
   "cell_type": "code",
   "execution_count": 410,
   "metadata": {},
   "outputs": [],
   "source": [
    "import sys\n",
    "class OligoConstruct:\n",
    "    \n",
    "    # define a class attribute tuple for base pairing\n",
    "    my_dictionary = {'A': 'T', 'T': 'A', 'C': 'G', 'G': 'C'}\n",
    "    \n",
    "    def __init__(self, senseInput):\n",
    "        self.shRNA_sense = senseInput\n",
    "        self.loop_sequence = \"CTCGAG\" # the 6bp loop CTCGAG or the 9bp loop TTCAAGAGA are good choices\n",
    "        self.sense_3 = \"TTTTTG\"  # 3' of the sense strand includes the ttttt pol iii termination sequence\n",
    "        self.sense_5 = \"CCGG\"  # 5' of the sense strand includes the AgeI overhang\n",
    "        self.antisense_5 = \"AATTCAAAAA\"  # includes the EcoRI underhang and reverse complement of the term seq\n",
    "        \n",
    "    @staticmethod\n",
    "    def reverse_complement(my_sequence):\n",
    "        return \"\".join([OligoConstruct.my_dictionary[base] for base in reversed(my_sequence)])\n",
    "    \n",
    "    @staticmethod\n",
    "    def complement(my_sequence):\n",
    "        return \"\".join([OligoConstruct.my_dictionary[base] for base in my_sequence])\n",
    "    \n",
    "    @staticmethod\n",
    "    def reverse(my_sequence):\n",
    "        return my_sequence[::-1]\n",
    "    \n",
    "    def shRNA_antisense(self):\n",
    "        return self.reverse_complement(self.shRNA_sense)\n",
    "    \n",
    "    def antisense_oligo(self):\n",
    "        return ''.join([self.antisense_5.lower(), \n",
    "                        self.shRNA_sense, \n",
    "                        self.loop_sequence.lower(), \n",
    "                        self.shRNA_antisense()])\n",
    "\n",
    "    def sense_oligo(self):\n",
    "        return ''.join([self.sense_5.lower(), \n",
    "                        self.shRNA_sense, \n",
    "                        self.loop_sequence.lower(), \n",
    "                        self.shRNA_antisense(), \n",
    "                        self.sense_3.lower()])\n",
    "    \n",
    "    def sense_label(self):\n",
    "        return \"shRNA     sense 5'- \" + self.sense_oligo() + ' ' * 4 + \" -3'\"\n",
    "\n",
    "    def antisense_label(self):\n",
    "        return \"shRNA antisense 3'- \" + ' ' * 4 + self.reverse(self.antisense_oligo()) + \" -5'\"\n",
    "    \n",
    "    def bonds_label(self):\n",
    "        return \"                    \" + ' ' * 4 + '|' * (len(self.antisense_oligo()) - 4)    "
   ]
  },
  {
   "cell_type": "code",
   "execution_count": 411,
   "metadata": {},
   "outputs": [],
   "source": [
    "Z = OligoConstruct(\"AGGTCA\")"
   ]
  },
  {
   "cell_type": "code",
   "execution_count": 412,
   "metadata": {},
   "outputs": [
    {
     "data": {
      "text/plain": [
       "'AGGTCA'"
      ]
     },
     "execution_count": 412,
     "metadata": {},
     "output_type": "execute_result"
    }
   ],
   "source": [
    "Z.shRNA_sense"
   ]
  },
  {
   "cell_type": "code",
   "execution_count": 413,
   "metadata": {},
   "outputs": [
    {
     "data": {
      "text/plain": [
       "'TGACCT'"
      ]
     },
     "execution_count": 413,
     "metadata": {},
     "output_type": "execute_result"
    }
   ],
   "source": [
    "Z.shRNA_antisense()"
   ]
  },
  {
   "cell_type": "code",
   "execution_count": 414,
   "metadata": {},
   "outputs": [
    {
     "data": {
      "text/plain": [
       "'CTCGAG'"
      ]
     },
     "execution_count": 414,
     "metadata": {},
     "output_type": "execute_result"
    }
   ],
   "source": [
    "Z.loop_sequence"
   ]
  },
  {
   "cell_type": "code",
   "execution_count": 415,
   "metadata": {},
   "outputs": [
    {
     "data": {
      "text/plain": [
       "'ccggAGGTCActcgagTGACCTtttttg'"
      ]
     },
     "execution_count": 415,
     "metadata": {},
     "output_type": "execute_result"
    }
   ],
   "source": [
    "Z.sense_oligo()"
   ]
  },
  {
   "cell_type": "code",
   "execution_count": 416,
   "metadata": {},
   "outputs": [
    {
     "data": {
      "text/plain": [
       "\"shRNA     sense 5'- ccggAGGTCActcgagTGACCTtttttg     -3'\""
      ]
     },
     "execution_count": 416,
     "metadata": {},
     "output_type": "execute_result"
    }
   ],
   "source": [
    "Z.sense_label()"
   ]
  },
  {
   "cell_type": "code",
   "execution_count": 417,
   "metadata": {},
   "outputs": [
    {
     "data": {
      "text/plain": [
       "'aattcaaaaaAGGTCActcgagTGACCT'"
      ]
     },
     "execution_count": 417,
     "metadata": {},
     "output_type": "execute_result"
    }
   ],
   "source": [
    "Z.antisense_oligo()"
   ]
  },
  {
   "cell_type": "code",
   "execution_count": 418,
   "metadata": {},
   "outputs": [
    {
     "data": {
      "text/plain": [
       "\"shRNA antisense 3'-     TCCAGTgagctcACTGGAaaaaacttaa -5'\""
      ]
     },
     "execution_count": 418,
     "metadata": {},
     "output_type": "execute_result"
    }
   ],
   "source": [
    "Z.antisense_label()"
   ]
  },
  {
   "cell_type": "code",
   "execution_count": 419,
   "metadata": {},
   "outputs": [
    {
     "data": {
      "text/plain": [
       "'                        ||||||||||||||||||||||||'"
      ]
     },
     "execution_count": 419,
     "metadata": {},
     "output_type": "execute_result"
    }
   ],
   "source": [
    "Z.bonds_label()"
   ]
  },
  {
   "cell_type": "code",
   "execution_count": null,
   "metadata": {},
   "outputs": [],
   "source": []
  },
  {
   "cell_type": "code",
   "execution_count": null,
   "metadata": {},
   "outputs": [],
   "source": []
  }
 ],
 "metadata": {
  "kernelspec": {
   "display_name": "Python 3",
   "language": "python",
   "name": "python3"
  },
  "language_info": {
   "codemirror_mode": {
    "name": "ipython",
    "version": 3
   },
   "file_extension": ".py",
   "mimetype": "text/x-python",
   "name": "python",
   "nbconvert_exporter": "python",
   "pygments_lexer": "ipython3",
   "version": "3.6.6"
  }
 },
 "nbformat": 4,
 "nbformat_minor": 2
}
